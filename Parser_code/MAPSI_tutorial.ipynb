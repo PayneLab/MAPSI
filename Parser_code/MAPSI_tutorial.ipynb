{
 "cells": [
  {
   "cell_type": "markdown",
   "metadata": {},
   "source": [
    "# MAPSI Tutorial"
   ]
  },
  {
   "cell_type": "markdown",
   "metadata": {},
   "source": [
    "## Overview\n",
    "MAPSI (MzML And Processed Spectra Interface) is designed to aid the user in combining and viewing mzML files and their corresponding PSM, peptide, and protein quantification files into a multiIndexed pandas dataframe.\n",
    "\n",
    "Depending on whether you are using MetaMorpheus or MSFragger files, you will want to import the corresponding parser script. In this tutorial I will import both parser scripts."
   ]
  },
  {
   "cell_type": "code",
   "execution_count": 14,
   "metadata": {},
   "outputs": [],
   "source": [
    "from MSFragger_Parser import parse_files as msfragger_parser\n",
    "from MetaMorpheus_Parser import parse_files as MetaMorpheus_parser"
   ]
  },
  {
   "cell_type": "code",
   "execution_count": 15,
   "metadata": {},
   "outputs": [],
   "source": [
    "import pandas as pd"
   ]
  },
  {
   "cell_type": "markdown",
   "metadata": {},
   "source": [
    "## Test Files"
   ]
  },
  {
   "cell_type": "code",
   "execution_count": 9,
   "metadata": {},
   "outputs": [],
   "source": [
    "# mzML test file\n",
    "mzml_file_path = \"C:\\\\Users\\\\Sarah Curtis\\\\OneDrive - BYU\\\\Documents\\\\Single Cell Team Documents\\\\API_dev\\\\MetaM\\\\2ng\\\\Ex_Auto_J3_30umTB_2ngQC_60m_1.mzML\"\n",
    "\n",
    "# MSFragger test files\n",
    "msfragger_psm_file_path = \"C:\\\\Users\\\\Sarah Curtis\\\\OneDrive - BYU\\\\Documents\\\\Single Cell Team Documents\\\\API_dev\\\\msfragger\\\\psm1.tsv\"\n",
    "msfragger_peptide_file_path = \"C:\\\\Users\\\\Sarah Curtis\\\\OneDrive - BYU\\\\Documents\\\\Single Cell Team Documents\\\\API_dev\\\\msfragger\\\\combined_peptide.tsv\"\n",
    "msfragger_protein_file_path = \"C:\\\\Users\\\\Sarah Curtis\\\\OneDrive - BYU\\\\Documents\\\\Single Cell Team Documents\\\\API_dev\\\\msfragger\\\\combined_protein.tsv\"\n",
    "\n",
    "# MetaMorpheus test files\n",
    "mzml_file_path = \"C:\\\\Users\\\\Sarah Curtis\\\\OneDrive - BYU\\\\Documents\\\\Single Cell Team Documents\\\\API_dev\\\\MetaM\\\\2ng\\\\Ex_Auto_J3_30umTB_2ngQC_60m_1.mzML\"\n",
    "mm_psm_file_path = \"C:\\\\Users\\\\Sarah Curtis\\\\OneDrive - BYU\\\\Documents\\\\Single Cell Team Documents\\\\API_dev\\\\MetaM\\\\2ng\\\\Ex_Auto_J3_30umTB_2ngQC_60m_1-calib_PSMs.psmtsv\"\n",
    "mm_peptideQ_file_path = \"C:\\\\Users\\\\Sarah Curtis\\\\OneDrive - BYU\\\\Documents\\\\Single Cell Team Documents\\\\API_dev\\\\MetaM\\\\2ng\\\\AllQuantifiedPeptides.tsv\"\n",
    "mm_protein_file_path = \"C:\\\\Users\\\\Sarah Curtis\\\\OneDrive - BYU\\\\Documents\\\\Single Cell Team Documents\\\\API_dev\\\\MetaM\\\\2ng\\\\AllQuantifiedProteinGroups.tsv\"\n",
    "\n",
    "# output test file\n",
    "outfile = \"C:\\\\Users\\\\Sarah Curtis\\\\OneDrive - BYU\\\\Documents\\\\Single Cell Team Documents\\\\API_dev\\\\msfragger\\\\tester.tsv\""
   ]
  },
  {
   "cell_type": "markdown",
   "metadata": {},
   "source": [
    "## Inputs\n",
    "#### input_files\n",
    "You may input a list of 1 to 4 files in any order. If you only want to read in one file, it can be inputted as a string."
   ]
  },
  {
   "cell_type": "code",
   "execution_count": null,
   "metadata": {},
   "outputs": [],
   "source": [
    "# let's try combining a psm and peptide quantification file\n",
    "psm_and_peptide_df = msfragger_parser(input_files=[msfragger_peptide_file_path, msfragger_psm_file_path])\n",
    "psm_and_peptide_df.head()"
   ]
  },
  {
   "cell_type": "code",
   "execution_count": null,
   "metadata": {},
   "outputs": [],
   "source": [
    "# we can also just load data from one file\n",
    "psm_df = msfragger_parser(input_files=msfragger_psm_file_path)\n",
    "psm_df.head()"
   ]
  },
  {
   "cell_type": "markdown",
   "metadata": {},
   "source": [
    "  Note that MAPSI cannot process more than one of each file type. If you would like to combine several files of the same type (ex: multiple mzML and PSM files), it is recommended that you run corresponding files through MAPSI and then concatenate the resulting dataframes.   \n",
    "  ```python:\n",
    "  list_of_mzml_file_paths = ['mzml_1', 'mzml_2', 'mzml_3']\n",
    "  list_of_psm_file_paths = ['psm_1', 'psm_2', 'psm_3']\n",
    "  # iterate over the mzML and PSM files \n",
    "  list_of_joined_dataframes = []\n",
    "  for index, mzml_file_path in enumerate(list_of_mzml_file_paths):\n",
    "    psm_file_path = list_of_psm_file_paths[index]\n",
    "    # join data from the mzML and PSM files and append it to the 'list_of_joined_dataframes'\n",
    "    new_df = msfragger_parser(input_files=[mzml_file_path, psm_file_path])\n",
    "    list_of_joined_dataframes.append(new_df)\n",
    "  # loop through the new_df's and concatenate them\n",
    "  joined_df = pd.concat(list_of_joined_dataframes)\n",
    "  ```"
   ]
  },
  {
   "cell_type": "markdown",
   "metadata": {},
   "source": [
    "MAPSI recognizes file types by the file extension and name. If MAPSI is having trouble recognizing your files, make sure that:\n",
    "1. The mzML file extension is `.mzml`\n",
    "2. The PSM file name contains `psm`\n",
    "3. The peptide file name contains `peptide` or `pep`\n",
    "4. The protein file name contains `protein` or `prot`\n",
    "\n",
    "#### output_file_path\n",
    "This is an optional parameter which allows you to save your dataframe as a `.tsv` file. "
   ]
  },
  {
   "cell_type": "code",
   "execution_count": null,
   "metadata": {},
   "outputs": [],
   "source": [
    "# ex:\n",
    "msfragger_parser(input_files=[msfragger_protein_file_path, msfragger_peptide_file_path], output_file_path=outfile).head()"
   ]
  },
  {
   "cell_type": "markdown",
   "metadata": {},
   "source": [
    "#### columns_to_keep\n",
    "This is an optional parameter which allows you to input a list of columns you would like to see the data for (MAPSI will also take a str if you only wish to input one column). It is recommended that you check the column names from your original columns before running MAPSI."
   ]
  },
  {
   "cell_type": "code",
   "execution_count": null,
   "metadata": {},
   "outputs": [],
   "source": [
    "my_dataframe = MetaMorpheus_parser(input_files=[mm_peptideQ_file_path, mm_psm_file_path, mm_protein_file_path], columns_to_keep=['Scan Number', 'Protein Accession', 'Peptide', 'Gene Name', 'Base Sequence', 'Score'])\n",
    "my_dataframe.head()"
   ]
  },
  {
   "cell_type": "markdown",
   "metadata": {},
   "source": [
    "\n",
    "If one of the inputted columns is not found in the database, the entire database will be returned to ensure that you are not missing any important information. To manually select columns to keep, follow the outline below:    \n",
    "```python:\n",
    "example_columns_to_keep = ['Column_1', 'Column_2', 'Column_3']\n",
    "my_dataframe = my_dataframe[example_columns_to_keep]\n",
    "```"
   ]
  },
  {
   "cell_type": "code",
   "execution_count": null,
   "metadata": {},
   "outputs": [],
   "source": [
    "modified_df = my_dataframe[['Gene Name', 'Score']]\n",
    "modified_df.head()"
   ]
  },
  {
   "cell_type": "markdown",
   "metadata": {},
   "source": [
    "#### rows_to_keep: (scans_to_keep, peptides_to_keep, proteins_to_keep)\n",
    "In addition to selecting columns to keep, you can also select specific rows to keep in your dataframe. This is split into 3 optional parameters which allow you to select rows based on scan number, peptide sequence, and/or protein accession. Note that these parameters must be entered as a `list` of str or a `str`."
   ]
  },
  {
   "cell_type": "code",
   "execution_count": null,
   "metadata": {},
   "outputs": [],
   "source": [
    "scans = ['16819', '17761', '8942', '9686', '10645', '17633', '17638']\n",
    "proteins = ['B5ME19', 'E9PAV3']\n",
    "msfragger_parser(input_files=[msfragger_psm_file_path, msfragger_peptide_file_path], scans_to_keep=scans, proteins_to_keep=proteins)"
   ]
  },
  {
   "cell_type": "markdown",
   "metadata": {},
   "source": [
    "If one of the inputs is not found in the specified row, the dataframe will not be filtered based off of that row."
   ]
  },
  {
   "cell_type": "code",
   "execution_count": null,
   "metadata": {},
   "outputs": [],
   "source": [
    "scans_1 = ['16819', '17761', '8942', '9686', '10645', '17633', '17638', '10000']\n",
    "proteins_1 = ['B5ME19', 'E9PAV3']\n",
    "selected_rows_df = msfragger_parser(input_files=[msfragger_psm_file_path, msfragger_peptide_file_path], scans_to_keep=scans_1, proteins_to_keep=proteins_1)\n",
    "selected_rows_df"
   ]
  },
  {
   "cell_type": "markdown",
   "metadata": {},
   "source": [
    "If you wish to manually correct this, you can do it as follows:"
   ]
  },
  {
   "cell_type": "code",
   "execution_count": null,
   "metadata": {},
   "outputs": [],
   "source": [
    "scans_corrected = [16819, 17761, 8942, 9686, 10645, 17633, 17638]\n",
    "# Note that we need to reset the index in order to store the data into columns/rows\n",
    "corrected_selected_rows_df = selected_rows_df.reset_index()\n",
    "corrected_selected_rows_df = corrected_selected_rows_df.loc[corrected_selected_rows_df['Scan Number'].isin(scans_corrected)]\n",
    "corrected_selected_rows_df = corrected_selected_rows_df.set_index(['Protein Accession', 'Peptide', 'Scan Number'])\n",
    "corrected_selected_rows_df"
   ]
  },
  {
   "cell_type": "markdown",
   "metadata": {},
   "source": [
    "#### multiIndex\n",
    "This optional parameter allows you to create a custom multiIndex for your dataframe. The default multiIndicies are as follows:\n",
    "*   1 mzML file: `['Scan Number']`\n",
    "*   A dataframe which includes a PSM file: `['Protein Accession', 'Peptide', 'Scan Number']`\n",
    "*   A peptide quantification file: `['Protein Accession', 'Peptide']`\n",
    "*   1 protein quantification file: `['Protein Accession']`\n",
    "\n",
    " Custom MultiIndicies are inputted as a list (or str if it is a single index). MultiIndicies inputted as a list must be ordered according to the desired multiIndex hierarchy."
   ]
  },
  {
   "cell_type": "code",
   "execution_count": null,
   "metadata": {},
   "outputs": [],
   "source": [
    "my_multiIndex = ['File Name', 'Protein Accession', 'Peptide', 'Scan Number']\n",
    "custom_multiIndex_df = msfragger_parser(input_files=[msfragger_psm_file_path, msfragger_protein_file_path, msfragger_peptide_file_path], output_file_path=outfile, multiIndex=my_multiIndex)\n",
    "custom_multiIndex_df.head()"
   ]
  },
  {
   "cell_type": "markdown",
   "metadata": {},
   "source": [
    "It is also important to note that the multiIndex will not be saved in the output file. If you want to load a saved dataframe with a multiIndex, it can be done as follows:"
   ]
  },
  {
   "cell_type": "code",
   "execution_count": null,
   "metadata": {},
   "outputs": [],
   "source": [
    "loaded_df = pd.read_table(outfile).set_index(my_multiIndex).sort_index()\n",
    "loaded_df.head()"
   ]
  },
  {
   "cell_type": "markdown",
   "metadata": {},
   "source": [
    "# Additional Info about Input Files\n",
    "## mzML Files"
   ]
  },
  {
   "cell_type": "markdown",
   "metadata": {},
   "source": [
    "### columns\n"
   ]
  },
  {
   "cell_type": "code",
   "execution_count": 16,
   "metadata": {},
   "outputs": [
    {
     "name": "stdout",
     "output_type": "stream",
     "text": [
      "Your inputs: [['C:\\\\Users\\\\Sarah Curtis\\\\OneDrive - BYU\\\\Documents\\\\Single Cell Team Documents\\\\API_dev\\\\MetaM\\\\2ng\\\\Ex_Auto_J3_30umTB_2ngQC_60m_1.mzML'], None, None, None, None, None, None]\n"
     ]
    },
    {
     "ename": "Exception",
     "evalue": "Function could not identify ex_auto_j3_30umtb_2ngqc_60m_1.mzml. Please rename your file to contain the file type. Ex: .mzml, psm, peptide/pep, protein/prot",
     "output_type": "error",
     "traceback": [
      "\u001b[1;31m---------------------------------------------------------------------------\u001b[0m",
      "\u001b[1;31mException\u001b[0m                                 Traceback (most recent call last)",
      "\u001b[1;32mc:\\Users\\Sarah Curtis\\Documents\\Single Cell\\MAPSIN\\Parser_code\\MAPSI_tutorial.ipynb Cell 29'\u001b[0m in \u001b[0;36m<cell line: 1>\u001b[1;34m()\u001b[0m\n\u001b[1;32m----> <a href='vscode-notebook-cell:/c%3A/Users/Sarah%20Curtis/Documents/Single%20Cell/MAPSIN/Parser_code/MAPSI_tutorial.ipynb#ch0000038?line=0'>1</a>\u001b[0m mzml_df \u001b[39m=\u001b[39m MetaMorpheus_parser(input_files\u001b[39m=\u001b[39;49mmzml_file_path)\n",
      "File \u001b[1;32mc:\\Users\\Sarah Curtis\\Documents\\Single Cell\\MAPSIN\\Parser_code\\MetaMorpheus_Parser.py:437\u001b[0m, in \u001b[0;36mparse_files\u001b[1;34m(input_files, output_file_path, columns_to_keep, multiIndex, proteins_to_keep, peptides_to_keep, scans_to_keep)\u001b[0m\n\u001b[0;32m    <a href='file:///c%3A/Users/Sarah%20Curtis/Documents/Single%20Cell/MAPSIN/Parser_code/MetaMorpheus_Parser.py?line=433'>434</a>\u001b[0m input_files, output_file_path, columns_to_keep, multiIndex, proteins_to_keep, peptides_to_keep, scans_to_keep \u001b[39m=\u001b[39m check_user_inputs(input_files, output_file_path, columns_to_keep, multiIndex, proteins_to_keep, peptides_to_keep, scans_to_keep)\n\u001b[0;32m    <a href='file:///c%3A/Users/Sarah%20Curtis/Documents/Single%20Cell/MAPSIN/Parser_code/MetaMorpheus_Parser.py?line=435'>436</a>\u001b[0m \u001b[39m# interpret the file list\u001b[39;00m\n\u001b[1;32m--> <a href='file:///c%3A/Users/Sarah%20Curtis/Documents/Single%20Cell/MAPSIN/Parser_code/MetaMorpheus_Parser.py?line=436'>437</a>\u001b[0m interpreted_file_list \u001b[39m=\u001b[39m assign_file_types(input_files)\n\u001b[0;32m    <a href='file:///c%3A/Users/Sarah%20Curtis/Documents/Single%20Cell/MAPSIN/Parser_code/MetaMorpheus_Parser.py?line=438'>439</a>\u001b[0m \u001b[39m# check that the input_files contained a valid list of files\u001b[39;00m\n\u001b[0;32m    <a href='file:///c%3A/Users/Sarah%20Curtis/Documents/Single%20Cell/MAPSIN/Parser_code/MetaMorpheus_Parser.py?line=439'>440</a>\u001b[0m bool_file_list \u001b[39m=\u001b[39m generate_bool_file_list(interpreted_file_list)\n",
      "File \u001b[1;32mc:\\Users\\Sarah Curtis\\Documents\\Single Cell\\MAPSIN\\Parser_code\\MetaMorpheus_Parser.py:258\u001b[0m, in \u001b[0;36massign_file_types\u001b[1;34m(input_files)\u001b[0m\n\u001b[0;32m    <a href='file:///c%3A/Users/Sarah%20Curtis/Documents/Single%20Cell/MAPSIN/Parser_code/MetaMorpheus_Parser.py?line=255'>256</a>\u001b[0m         file_path_list[\u001b[39m0\u001b[39m] \u001b[39m=\u001b[39m file_path\n\u001b[0;32m    <a href='file:///c%3A/Users/Sarah%20Curtis/Documents/Single%20Cell/MAPSIN/Parser_code/MetaMorpheus_Parser.py?line=256'>257</a>\u001b[0m     \u001b[39melse\u001b[39;00m:\n\u001b[1;32m--> <a href='file:///c%3A/Users/Sarah%20Curtis/Documents/Single%20Cell/MAPSIN/Parser_code/MetaMorpheus_Parser.py?line=257'>258</a>\u001b[0m         \u001b[39mraise\u001b[39;00m \u001b[39mException\u001b[39;00m(\u001b[39mf\u001b[39m\u001b[39m\"\u001b[39m\u001b[39mFunction could not identify \u001b[39m\u001b[39m{\u001b[39;00mfile_name\u001b[39m}\u001b[39;00m\u001b[39m. Please rename your file to contain the file type. Ex: .mzml, psm, peptide/pep, protein/prot\u001b[39m\u001b[39m\"\u001b[39m)\n\u001b[0;32m    <a href='file:///c%3A/Users/Sarah%20Curtis/Documents/Single%20Cell/MAPSIN/Parser_code/MetaMorpheus_Parser.py?line=258'>259</a>\u001b[0m \u001b[39mreturn\u001b[39;00m file_path_list\n",
      "\u001b[1;31mException\u001b[0m: Function could not identify ex_auto_j3_30umtb_2ngqc_60m_1.mzml. Please rename your file to contain the file type. Ex: .mzml, psm, peptide/pep, protein/prot"
     ]
    }
   ],
   "source": [
    "mzml_df = MetaMorpheus_parser(input_files=mzml_file_path)"
   ]
  },
  {
   "cell_type": "code",
   "execution_count": null,
   "metadata": {},
   "outputs": [],
   "source": []
  }
 ],
 "metadata": {
  "interpreter": {
   "hash": "eb791f40de0ed417c7668bedc816e2881564503a427da7fde26581559a099aa2"
  },
  "kernelspec": {
   "display_name": "Python 3.9.7 64-bit",
   "language": "python",
   "name": "python3"
  },
  "language_info": {
   "codemirror_mode": {
    "name": "ipython",
    "version": 3
   },
   "file_extension": ".py",
   "mimetype": "text/x-python",
   "name": "python",
   "nbconvert_exporter": "python",
   "pygments_lexer": "ipython3",
   "version": "3.9.7"
  },
  "orig_nbformat": 4
 },
 "nbformat": 4,
 "nbformat_minor": 2
}
